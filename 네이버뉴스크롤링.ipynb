{
 "cells": [
  {
   "cell_type": "code",
   "execution_count": 1,
   "metadata": {},
   "outputs": [],
   "source": [
    "import requests\n",
    "from bs4 import BeautifulSoup as bs\n",
    "import pandas as pd"
   ]
  },
  {
   "cell_type": "code",
   "execution_count": 2,
   "metadata": {},
   "outputs": [
    {
     "data": {
      "text/plain": [
       "<Response [200]>"
      ]
     },
     "execution_count": 2,
     "metadata": {},
     "output_type": "execute_result"
    }
   ],
   "source": [
    "date='20200604'\n",
    "url='https://news.naver.com/main/ranking/popularDay.nhn?rankingType=popular_day&sectionId=100&date={}'.format(date)\n",
    "\n",
    "response=requests.get(url)\n",
    "response"
   ]
  },
  {
   "cell_type": "code",
   "execution_count": 3,
   "metadata": {},
   "outputs": [],
   "source": [
    "dom=bs(response.content,'html.parser')"
   ]
  },
  {
   "cell_type": "code",
   "execution_count": 4,
   "metadata": {},
   "outputs": [],
   "source": [
    "#section_body > ul.type06_headline > li:nth-child(1)"
   ]
  },
  {
   "cell_type": "code",
   "execution_count": 5,
   "metadata": {},
   "outputs": [
    {
     "data": {
      "text/plain": [
       "30"
      ]
     },
     "execution_count": 5,
     "metadata": {},
     "output_type": "execute_result"
    }
   ],
   "source": [
    "elements=dom.select('.ranking > .ranking_list>li') #class는 . id로 불러올떄는 #\n",
    "len(elements) # 네이버뉴스속보 전체 "
   ]
  },
  {
   "cell_type": "code",
   "execution_count": 6,
   "metadata": {},
   "outputs": [
    {
     "data": {
      "text/plain": [
       "<li class=\"ranking_item is_num1\">\n",
       "<div class=\"ranking_thumb\">\n",
       "<a class=\"nclicks(rnk.gov)\" href=\"/main/ranking/read.nhn?rankingType=popular_day&amp;oid=015&amp;aid=0004354217&amp;date=20200604&amp;type=1&amp;rankingSectionId=100&amp;rankingSeq=1\" title=\"김여정 '대북전단' 윽박에 바짝 엎드린 정부\">\n",
       "<img alt=\"\" height=\"72\" onerror=\"javascript:this.src='https://imgnews.pstatic.net/image/news/2009/noimage_106x72.png';\" src=\"https://imgnews.pstatic.net/image/origin/015/2020/06/04/4354217.jpg?type=nf106_72\" title=\"김여정 '대북전단' 윽박에 바짝 엎드린 정부\" width=\"106\"/>\n",
       "</a>\n",
       "</div>\n",
       "<div class=\"ranking_text\">\n",
       "<div class=\"ranking_headline\">\n",
       "<a class=\"nclicks(rnk.gov)\" href=\"/main/ranking/read.nhn?rankingType=popular_day&amp;oid=015&amp;aid=0004354217&amp;date=20200604&amp;type=1&amp;rankingSectionId=100&amp;rankingSeq=1\" title=\"김여정 '대북전단' 윽박에 바짝 엎드린 정부\">김여정 '대북전단' 윽박에 바짝 엎드린 정부</a>\n",
       "</div>\n",
       "<div class=\"ranking_lede\">\n",
       "                            \n",
       "                            통일부가 대북전단 살포를 금지하는 법률을 제정하겠다고 4일 밝혔다. 김여정 북한 노동당 제1부부장(사진)이 이날 새벽 담화를 통해 대북전 …\n",
       "                        </div>\n",
       "<div class=\"ranking_office\">한국경제</div>\n",
       "<div class=\"ranking_view\">28,660</div>\n",
       "</div>\n",
       "</li>"
      ]
     },
     "execution_count": 6,
     "metadata": {},
     "output_type": "execute_result"
    }
   ],
   "source": [
    "elements[0]"
   ]
  },
  {
   "cell_type": "code",
   "execution_count": 7,
   "metadata": {
    "scrolled": true
   },
   "outputs": [
    {
     "data": {
      "text/plain": [
       "(\"김여정 '대북전단' 윽박에 바짝 엎드린 정부\", '한국경제', '28,660')"
      ]
     },
     "execution_count": 7,
     "metadata": {},
     "output_type": "execute_result"
    }
   ],
   "source": [
    "title=elements[0].select_one(\" .ranking_text > .ranking_headline\").text.strip().replace('\\n',\"\")\n",
    "writer= elements[0].select_one('div.ranking_text > div.ranking_office').text\n",
    "view=elements[0].select_one(\" .ranking_text > .ranking_view\").text\n",
    "\n",
    "title,writer,view"
   ]
  },
  {
   "cell_type": "code",
   "execution_count": 8,
   "metadata": {},
   "outputs": [
    {
     "data": {
      "text/html": [
       "<div>\n",
       "<style scoped>\n",
       "    .dataframe tbody tr th:only-of-type {\n",
       "        vertical-align: middle;\n",
       "    }\n",
       "\n",
       "    .dataframe tbody tr th {\n",
       "        vertical-align: top;\n",
       "    }\n",
       "\n",
       "    .dataframe thead th {\n",
       "        text-align: right;\n",
       "    }\n",
       "</style>\n",
       "<table border=\"1\" class=\"dataframe\">\n",
       "  <thead>\n",
       "    <tr style=\"text-align: right;\">\n",
       "      <th></th>\n",
       "      <th>title</th>\n",
       "      <th>writer</th>\n",
       "      <th>view</th>\n",
       "    </tr>\n",
       "  </thead>\n",
       "  <tbody>\n",
       "    <tr>\n",
       "      <th>0</th>\n",
       "      <td>김여정 '대북전단' 윽박에 바짝 엎드린 정부</td>\n",
       "      <td>한국경제</td>\n",
       "      <td>28,660</td>\n",
       "    </tr>\n",
       "    <tr>\n",
       "      <th>1</th>\n",
       "      <td>김여정 부들부들 6시간만에... 청와대 \"삐라 단호 대처\"</td>\n",
       "      <td>조선일보</td>\n",
       "      <td>22,398</td>\n",
       "    </tr>\n",
       "    <tr>\n",
       "      <th>2</th>\n",
       "      <td>`기본소득` 치고나온 野…증세카드 꺼낸 與</td>\n",
       "      <td>매일경제</td>\n",
       "      <td>19,925</td>\n",
       "    </tr>\n",
       "    <tr>\n",
       "      <th>3</th>\n",
       "      <td>김여정 \"대북전단 방치시 각오해야\"…정부 \"금지법 이미 준비중\"</td>\n",
       "      <td>연합뉴스</td>\n",
       "      <td>17,808</td>\n",
       "    </tr>\n",
       "    <tr>\n",
       "      <th>4</th>\n",
       "      <td>日전범기업 자산 매각 임박…한일 관계 다시 살얼음판</td>\n",
       "      <td>뉴시스</td>\n",
       "      <td>11,696</td>\n",
       "    </tr>\n",
       "    <tr>\n",
       "      <th>5</th>\n",
       "      <td>김여정 한마디에…靑 \"대북 삐라 백해무익\"</td>\n",
       "      <td>한국경제</td>\n",
       "      <td>10,123</td>\n",
       "    </tr>\n",
       "    <tr>\n",
       "      <th>6</th>\n",
       "      <td>[취재파일] 김여정 \"혹독한 대가\"…정말 대북전단이 문제일까</td>\n",
       "      <td>SBS</td>\n",
       "      <td>9,834</td>\n",
       "    </tr>\n",
       "    <tr>\n",
       "      <th>7</th>\n",
       "      <td>이낙연 ‘독주’에 ‘당권 제휴설’로 견제?…정세균-김부겸, 나란히 부…</td>\n",
       "      <td>동아일보</td>\n",
       "      <td>9,468</td>\n",
       "    </tr>\n",
       "    <tr>\n",
       "      <th>8</th>\n",
       "      <td>[팩트체크] 핀란드 기본소득 실험, 실패했나…자체평가는?</td>\n",
       "      <td>연합뉴스</td>\n",
       "      <td>7,888</td>\n",
       "    </tr>\n",
       "    <tr>\n",
       "      <th>9</th>\n",
       "      <td>이낙연 의원이 초선 자리에? 본회의장 좌석 배치 공식보니…</td>\n",
       "      <td>동아일보</td>\n",
       "      <td>7,277</td>\n",
       "    </tr>\n",
       "    <tr>\n",
       "      <th>10</th>\n",
       "      <td>文 유화메시지엔 침묵하더니…北, 대북전단 꼬투리로 우회협박</td>\n",
       "      <td>매일경제</td>\n",
       "      <td>6,619</td>\n",
       "    </tr>\n",
       "    <tr>\n",
       "      <th>11</th>\n",
       "      <td>여당 의원들 \"기본소득 줘야 하니 세금 올립시다\"</td>\n",
       "      <td>한국경제</td>\n",
       "      <td>6,608</td>\n",
       "    </tr>\n",
       "    <tr>\n",
       "      <th>12</th>\n",
       "      <td>삼성으로...뜻밖에 우린 통하나봐, 김종인과 심상정 한목소리</td>\n",
       "      <td>조선일보</td>\n",
       "      <td>6,321</td>\n",
       "    </tr>\n",
       "    <tr>\n",
       "      <th>13</th>\n",
       "      <td>탈북민 단체, 100만장 전단살포한다… “통일부냐, 통전부냐”</td>\n",
       "      <td>국민일보</td>\n",
       "      <td>6,089</td>\n",
       "    </tr>\n",
       "    <tr>\n",
       "      <th>14</th>\n",
       "      <td>\"빵 살 자유\" 말했던 김종인…하루만에 \"기본소득, 당장은 안돼\"</td>\n",
       "      <td>조선비즈</td>\n",
       "      <td>6,007</td>\n",
       "    </tr>\n",
       "    <tr>\n",
       "      <th>15</th>\n",
       "      <td>한국군에 실망해 훈련 중단?…주한미군 \"억측이자 모욕\" 비판</td>\n",
       "      <td>뉴스1</td>\n",
       "      <td>5,573</td>\n",
       "    </tr>\n",
       "    <tr>\n",
       "      <th>16</th>\n",
       "      <td>[라이브썰전] 이재오 \"김여정 대북전단 엄포, 미국과 대화 잘 안 되…</td>\n",
       "      <td>JTBC</td>\n",
       "      <td>5,240</td>\n",
       "    </tr>\n",
       "    <tr>\n",
       "      <th>17</th>\n",
       "      <td>이인영 “노노 2주택”이랬지만··· 민주당 다주택자 24%</td>\n",
       "      <td>서울경제</td>\n",
       "      <td>4,844</td>\n",
       "    </tr>\n",
       "    <tr>\n",
       "      <th>18</th>\n",
       "      <td>옥중에서 쓴 최순실의 회고록 '나는 누구인가' 출간...어떤 내용 담…</td>\n",
       "      <td>조선비즈</td>\n",
       "      <td>4,557</td>\n",
       "    </tr>\n",
       "    <tr>\n",
       "      <th>19</th>\n",
       "      <td>김여정 으름장에… 정부 “대북전단 중단돼야”</td>\n",
       "      <td>세계일보</td>\n",
       "      <td>4,238</td>\n",
       "    </tr>\n",
       "    <tr>\n",
       "      <th>20</th>\n",
       "      <td>윤미향 계좌에 왜 시누이 집 판 돈이?…이상한 해명 '도마'</td>\n",
       "      <td>MBN</td>\n",
       "      <td>4,231</td>\n",
       "    </tr>\n",
       "    <tr>\n",
       "      <th>21</th>\n",
       "      <td>김여정 경고에 \"대북전단 중단 법률 준비하고 있다\"는 정부, 현실성…</td>\n",
       "      <td>서울경제</td>\n",
       "      <td>4,221</td>\n",
       "    </tr>\n",
       "    <tr>\n",
       "      <th>22</th>\n",
       "      <td>공교로운 타이밍에 발표된 대북 전단 조치…남북 '시그널' 오갔나</td>\n",
       "      <td>뉴스1</td>\n",
       "      <td>4,019</td>\n",
       "    </tr>\n",
       "    <tr>\n",
       "      <th>23</th>\n",
       "      <td>일본 '자산매각 보복' 준비하나…\"섣부른 맞대응 어려울 것\"</td>\n",
       "      <td>연합뉴스</td>\n",
       "      <td>3,969</td>\n",
       "    </tr>\n",
       "    <tr>\n",
       "      <th>24</th>\n",
       "      <td>“들짐승보다 못한 인간추물”…많이 화난 김정은·김여정</td>\n",
       "      <td>국민일보</td>\n",
       "      <td>3,625</td>\n",
       "    </tr>\n",
       "    <tr>\n",
       "      <th>25</th>\n",
       "      <td>민주당 이수진 “사법농단 판사들 탄핵 추진”··· 사상 최초 ‘법관…</td>\n",
       "      <td>경향신문</td>\n",
       "      <td>3,216</td>\n",
       "    </tr>\n",
       "    <tr>\n",
       "      <th>26</th>\n",
       "      <td>[단독]검, 이재준 시장·최성 전 시장 측 통화녹음 파일 확보…민주…</td>\n",
       "      <td>경향신문</td>\n",
       "      <td>3,173</td>\n",
       "    </tr>\n",
       "    <tr>\n",
       "      <th>27</th>\n",
       "      <td>\"난 박근혜와의 관계서 투명인간이었다\" 최순실 회고록 출간</td>\n",
       "      <td>중앙일보</td>\n",
       "      <td>3,146</td>\n",
       "    </tr>\n",
       "    <tr>\n",
       "      <th>28</th>\n",
       "      <td>北 김여정 화내자… 통일부 \"대북전단 중단돼야\"</td>\n",
       "      <td>TV조선</td>\n",
       "      <td>3,125</td>\n",
       "    </tr>\n",
       "    <tr>\n",
       "      <th>29</th>\n",
       "      <td>\"근본적 검토할 시간\" → \"주장해본 적 없다\"... 김종인의 '기본소…</td>\n",
       "      <td>오마이뉴스</td>\n",
       "      <td>3,000</td>\n",
       "    </tr>\n",
       "  </tbody>\n",
       "</table>\n",
       "</div>"
      ],
      "text/plain": [
       "                                       title writer    view\n",
       "0                   김여정 '대북전단' 윽박에 바짝 엎드린 정부   한국경제  28,660\n",
       "1           김여정 부들부들 6시간만에... 청와대 \"삐라 단호 대처\"   조선일보  22,398\n",
       "2                    `기본소득` 치고나온 野…증세카드 꺼낸 與   매일경제  19,925\n",
       "3        김여정 \"대북전단 방치시 각오해야\"…정부 \"금지법 이미 준비중\"   연합뉴스  17,808\n",
       "4               日전범기업 자산 매각 임박…한일 관계 다시 살얼음판    뉴시스  11,696\n",
       "5                    김여정 한마디에…靑 \"대북 삐라 백해무익\"   한국경제  10,123\n",
       "6          [취재파일] 김여정 \"혹독한 대가\"…정말 대북전단이 문제일까    SBS   9,834\n",
       "7    이낙연 ‘독주’에 ‘당권 제휴설’로 견제?…정세균-김부겸, 나란히 부…   동아일보   9,468\n",
       "8            [팩트체크] 핀란드 기본소득 실험, 실패했나…자체평가는?   연합뉴스   7,888\n",
       "9           이낙연 의원이 초선 자리에? 본회의장 좌석 배치 공식보니…   동아일보   7,277\n",
       "10          文 유화메시지엔 침묵하더니…北, 대북전단 꼬투리로 우회협박   매일경제   6,619\n",
       "11               여당 의원들 \"기본소득 줘야 하니 세금 올립시다\"   한국경제   6,608\n",
       "12         삼성으로...뜻밖에 우린 통하나봐, 김종인과 심상정 한목소리   조선일보   6,321\n",
       "13        탈북민 단체, 100만장 전단살포한다… “통일부냐, 통전부냐”   국민일보   6,089\n",
       "14      \"빵 살 자유\" 말했던 김종인…하루만에 \"기본소득, 당장은 안돼\"   조선비즈   6,007\n",
       "15         한국군에 실망해 훈련 중단?…주한미군 \"억측이자 모욕\" 비판    뉴스1   5,573\n",
       "16   [라이브썰전] 이재오 \"김여정 대북전단 엄포, 미국과 대화 잘 안 되…   JTBC   5,240\n",
       "17          이인영 “노노 2주택”이랬지만··· 민주당 다주택자 24%   서울경제   4,844\n",
       "18   옥중에서 쓴 최순실의 회고록 '나는 누구인가' 출간...어떤 내용 담…   조선비즈   4,557\n",
       "19                  김여정 으름장에… 정부 “대북전단 중단돼야”   세계일보   4,238\n",
       "20         윤미향 계좌에 왜 시누이 집 판 돈이?…이상한 해명 '도마'    MBN   4,231\n",
       "21    김여정 경고에 \"대북전단 중단 법률 준비하고 있다\"는 정부, 현실성…   서울경제   4,221\n",
       "22       공교로운 타이밍에 발표된 대북 전단 조치…남북 '시그널' 오갔나    뉴스1   4,019\n",
       "23         일본 '자산매각 보복' 준비하나…\"섣부른 맞대응 어려울 것\"   연합뉴스   3,969\n",
       "24             “들짐승보다 못한 인간추물”…많이 화난 김정은·김여정   국민일보   3,625\n",
       "25    민주당 이수진 “사법농단 판사들 탄핵 추진”··· 사상 최초 ‘법관…   경향신문   3,216\n",
       "26    [단독]검, 이재준 시장·최성 전 시장 측 통화녹음 파일 확보…민주…   경향신문   3,173\n",
       "27          \"난 박근혜와의 관계서 투명인간이었다\" 최순실 회고록 출간   중앙일보   3,146\n",
       "28                北 김여정 화내자… 통일부 \"대북전단 중단돼야\"   TV조선   3,125\n",
       "29  \"근본적 검토할 시간\" → \"주장해본 적 없다\"... 김종인의 '기본소…  오마이뉴스   3,000"
      ]
     },
     "execution_count": 8,
     "metadata": {},
     "output_type": "execute_result"
    }
   ],
   "source": [
    "datas=[]\n",
    "for element in elements:\n",
    "    \n",
    "    datas.append({\n",
    "        'title':element.select_one(\" .ranking_text > .ranking_headline\").text.strip().replace('\\n',\"\"),\n",
    "        'writer':element.select_one('div.ranking_text > div.ranking_office').text,\n",
    "        'view':element.select_one(\" .ranking_text > .ranking_view\").text\n",
    "        \n",
    "    \n",
    "    })\n",
    "    \n",
    "rankingnews_df=pd.DataFrame(datas)\n",
    "rankingnews_df"
   ]
  },
  {
   "cell_type": "code",
   "execution_count": null,
   "metadata": {},
   "outputs": [],
   "source": []
  },
  {
   "cell_type": "code",
   "execution_count": 9,
   "metadata": {},
   "outputs": [],
   "source": [
    "def ranknews(date):\n",
    "    url='https://news.naver.com/main/ranking/popularDay.nhn?rankingType=popular_day&sectionId=100&date={}'.format(date)\n",
    "\n",
    "    response=requests.get(url)\n",
    "    \n",
    "    dom=bs(response.content,'html.parser')\n",
    "    \n",
    "    elements=dom.select('.ranking > .ranking_list>li') #class는 . id로 불러올떄는 #\n",
    "    len(elements) # 네이버뉴스속보 전체 \n",
    "    \n",
    "    datas=[]\n",
    "    for element in elements:\n",
    "    \n",
    "        datas.append({\n",
    "        'title':element.select_one(\" .ranking_text > .ranking_headline\").text.strip().replace('\\n',\"\"),\n",
    "        'writer':element.select_one('div.ranking_text > div.ranking_office').text,\n",
    "        'view':element.select_one(\" .ranking_text > .ranking_view\").text\n",
    "        \n",
    "    \n",
    "        })\n",
    "    rankingnews_df=pd.DataFrame(datas)\n",
    "    return rankingnews_df"
   ]
  },
  {
   "cell_type": "code",
   "execution_count": 24,
   "metadata": {},
   "outputs": [],
   "source": [
    "date='20200315'\n",
    "df1=ranknews(date)\n",
    "df1.to_excel('C:/Users/inha/Desktop/15.xlsx')"
   ]
  },
  {
   "cell_type": "code",
   "execution_count": null,
   "metadata": {},
   "outputs": [],
   "source": []
  },
  {
   "cell_type": "code",
   "execution_count": null,
   "metadata": {},
   "outputs": [],
   "source": []
  },
  {
   "cell_type": "code",
   "execution_count": null,
   "metadata": {},
   "outputs": [],
   "source": []
  },
  {
   "cell_type": "code",
   "execution_count": null,
   "metadata": {},
   "outputs": [],
   "source": []
  },
  {
   "cell_type": "code",
   "execution_count": null,
   "metadata": {},
   "outputs": [],
   "source": []
  }
 ],
 "metadata": {
  "kernelspec": {
   "display_name": "Python 3",
   "language": "python",
   "name": "python3"
  },
  "language_info": {
   "codemirror_mode": {
    "name": "ipython",
    "version": 3
   },
   "file_extension": ".py",
   "mimetype": "text/x-python",
   "name": "python",
   "nbconvert_exporter": "python",
   "pygments_lexer": "ipython3",
   "version": "3.7.6"
  },
  "toc": {
   "base_numbering": 1,
   "nav_menu": {},
   "number_sections": true,
   "sideBar": true,
   "skip_h1_title": false,
   "title_cell": "Table of Contents",
   "title_sidebar": "Contents",
   "toc_cell": false,
   "toc_position": {},
   "toc_section_display": true,
   "toc_window_display": false
  },
  "varInspector": {
   "cols": {
    "lenName": 16,
    "lenType": 16,
    "lenVar": 40
   },
   "kernels_config": {
    "python": {
     "delete_cmd_postfix": "",
     "delete_cmd_prefix": "del ",
     "library": "var_list.py",
     "varRefreshCmd": "print(var_dic_list())"
    },
    "r": {
     "delete_cmd_postfix": ") ",
     "delete_cmd_prefix": "rm(",
     "library": "var_list.r",
     "varRefreshCmd": "cat(var_dic_list()) "
    }
   },
   "types_to_exclude": [
    "module",
    "function",
    "builtin_function_or_method",
    "instance",
    "_Feature"
   ],
   "window_display": false
  }
 },
 "nbformat": 4,
 "nbformat_minor": 4
}
