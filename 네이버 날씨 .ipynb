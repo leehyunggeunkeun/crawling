{
 "cells": [
  {
   "cell_type": "code",
   "execution_count": 1,
   "metadata": {},
   "outputs": [],
   "source": [
    "import requests\n",
    "from bs4 import BeautifulSoup as bs\n",
    "import pandas as pd"
   ]
  },
  {
   "cell_type": "code",
   "execution_count": 2,
   "metadata": {},
   "outputs": [
    {
     "data": {
      "text/plain": [
       "<Response [200]>"
      ]
     },
     "execution_count": 2,
     "metadata": {},
     "output_type": "execute_result"
    }
   ],
   "source": [
    "location='송도2동날씨'\n",
    "url='https://search.naver.com/search.naver?sm=top_hty&fbm=1&ie=utf8&query={}'.format(location)\n",
    "\n",
    "response=requests.get(url)\n",
    "response\n"
   ]
  },
  {
   "cell_type": "code",
   "execution_count": 3,
   "metadata": {},
   "outputs": [],
   "source": [
    "dom=bs(response.content,'html.parser')"
   ]
  },
  {
   "cell_type": "code",
   "execution_count": 4,
   "metadata": {},
   "outputs": [
    {
     "data": {
      "text/plain": [
       "(8, 8, 8, 8, 8, 8)"
      ]
     },
     "execution_count": 4,
     "metadata": {},
     "output_type": "execute_result"
    }
   ],
   "source": [
    "elements1=dom.select('div.sc.cs_weather._weather > div:nth-child(2) > div.weather_box > div.weather_area._mainArea > div.today_area._mainTabContent > div.table_info.bytime._todayWeatherByTime > div.info_list.weather_condition._tabContent > ul>li')\n",
    "\n",
    "elements2=dom.select(' div.sc.cs_weather._weather > div:nth-child(2) > div.weather_box > div.weather_area._mainArea > div:nth-child(4) > div.table_info.bytime._tomorrowWeatherByTime > div.info_list.weather_condition._tabContent > ul>li')\n",
    "\n",
    "elements3=dom.select('div.sc.cs_weather._weather > div:nth-child(2) > div.weather_box > div.weather_area._mainArea > div.tomorrow_area.day_after._mainTabContent > div.table_info.bytime._dayAfterWeatherByTime > div.info_list.weather_condition._tabContent > ul>li')\n",
    "\n",
    "elements4=dom.select('div.sc.cs_weather._weather > div:nth-child(2) > div.weather_box > div.weather_area._mainArea > div.today_area._mainTabContent > div.table_info.bytime._todayWeatherByTime > div.info_list.humidity._tabContent > ul>li')\n",
    "\n",
    "elements5=dom.select('div.sc.cs_weather._weather > div:nth-child(2) > div.weather_box > div.weather_area._mainArea > div:nth-child(4) > div.table_info.bytime._tomorrowWeatherByTime > div.info_list.humidity._tabContent > ul>li')\n",
    "\n",
    "elements6=dom.select('div.sc.cs_weather._weather > div:nth-child(2) > div.weather_box > div.weather_area._mainArea > div.tomorrow_area.day_after._mainTabContent > div.table_info.bytime._dayAfterWeatherByTime > div.info_list.weather_condition._tabContent > ul>li')\n",
    "\n",
    "len(elements1),len(elements2),len(elements3),len(elements4),len(elements5),len(elements6)"
   ]
  },
  {
   "cell_type": "code",
   "execution_count": 5,
   "metadata": {},
   "outputs": [
    {
     "data": {
      "text/plain": [
       "<li class=\"on now\"> <dl> <dt class=\"blind\">오늘 온도</dt> <dd class=\"weather_item _dotWrapper\" style=\"bottom:96px;\"> <span>31</span>°<span class=\"blind\">도</span> <span class=\"dot_point today _dot\"></span> </dd> <dt class=\"blind\">날씨</dt> <dd class=\"item_condition\"><span class=\"ico_state2 ws1\">맑음</span></dd> <dt class=\"blind\">시간</dt> <dd class=\"item_time\"> <span class=\"more_bytime\"> <span class=\"ico dday\"><span class=\"dday\">11시</span></span> </span> </dd> </dl> </li>"
      ]
     },
     "execution_count": 5,
     "metadata": {},
     "output_type": "execute_result"
    }
   ],
   "source": [
    "elements1[0]"
   ]
  },
  {
   "cell_type": "code",
   "execution_count": 6,
   "metadata": {},
   "outputs": [
    {
     "data": {
      "text/plain": [
       "<li class=\"on now\"> <dl> <dt class=\"blind\">예상 습도</dt> <dd class=\"weather_item _dotWrapper\" style=\"bottom:77px;\"> <span>73</span>% <span class=\"dot_point today _dot\"></span> </dd> <dd class=\"item_condition\"> <span class=\"wt_status\"> <span class=\"ico_humidity\"> <span class=\"percent\"><i style=\"height:73%\"></i></span> </span> <span class=\"ico_humidity_bg\"></span> </span> </dd> <dt class=\"blind\">시간</dt> <dd class=\"item_time\"> <span class=\"more_bytime\"> <span class=\"ico dday\"><span class=\"dday\">11시</span></span> </span> </dd> </dl> </li>"
      ]
     },
     "execution_count": 6,
     "metadata": {},
     "output_type": "execute_result"
    }
   ],
   "source": [
    "elements4[0]"
   ]
  },
  {
   "cell_type": "code",
   "execution_count": 7,
   "metadata": {},
   "outputs": [
    {
     "data": {
      "text/plain": [
       "'73'"
      ]
     },
     "execution_count": 7,
     "metadata": {},
     "output_type": "execute_result"
    }
   ],
   "source": [
    "elements4[0].select_one('span').text"
   ]
  },
  {
   "cell_type": "code",
   "execution_count": 8,
   "metadata": {},
   "outputs": [],
   "source": [
    "import pandas as pd\n",
    "\n",
    "\n",
    "\n",
    "def temp(location):\n",
    "    \n",
    "    datas1=[]\n",
    "    datas2=[]\n",
    "    datas3=[]\n",
    "    datas4=[]\n",
    "    datas5=[]\n",
    "    datas6=[]\n",
    "\n",
    "    for element1 in elements1:\n",
    "        datas1.append({\n",
    "            '오늘시간':element1.select_one('.item_time').text.strip(),\n",
    "            '오늘온도':element1.select_one('span').text\n",
    "\n",
    "        })\n",
    "\n",
    "    for element2 in elements2:\n",
    "        datas2.append({\n",
    "            '내일시간':element2.select_one('.item_time').text.strip(),\n",
    "            '내일온도':element2.select_one('span').text\n",
    "\n",
    "        })    \n",
    "\n",
    "\n",
    "    for element3 in elements3:\n",
    "        datas3.append({\n",
    "            '모레시간':element3.select_one('.item_time').text.strip(),\n",
    "            '모레온도':element3.select_one('span').text\n",
    "\n",
    "        })    \n",
    "        \n",
    "    for element4 in elements4:\n",
    "          datas4.append({\n",
    "            '오늘습도':element4.select_one('span').text\n",
    "\n",
    "        })\n",
    "\n",
    "    for element5 in elements5:\n",
    "        datas5.append({\n",
    "            '내일습도':element5.select_one('span').text\n",
    "\n",
    "        })    \n",
    "\n",
    "\n",
    "    for element6 in elements6:\n",
    "        datas6.append({\n",
    "            '모레습도':element6.select_one('span').text\n",
    "\n",
    "        })    \n",
    "    \n",
    "    \n",
    "\n",
    "    df1=pd.DataFrame(datas1)\n",
    "\n",
    "    df2=pd.DataFrame(datas2)\n",
    "\n",
    "    df3=pd.DataFrame(datas3)\n",
    "    \n",
    "    df4=pd.DataFrame(datas4)\n",
    "\n",
    "    df5=pd.DataFrame(datas5)\n",
    "\n",
    "    df6=pd.DataFrame(datas6)\n",
    "    \n",
    "    result = pd.concat([df1,df4,df2,df5,df3,df6],axis=1)\n",
    "    \n",
    "    return result"
   ]
  },
  {
   "cell_type": "code",
   "execution_count": 9,
   "metadata": {},
   "outputs": [],
   "source": [
    "location='용현1.4동날씨'\n",
    "\n",
    "df=temp(location)\n",
    "df.to_excel('Desktop/1.xlsx')"
   ]
  },
  {
   "cell_type": "code",
   "execution_count": null,
   "metadata": {},
   "outputs": [],
   "source": []
  }
 ],
 "metadata": {
  "kernelspec": {
   "display_name": "Python 3",
   "language": "python",
   "name": "python3"
  },
  "language_info": {
   "codemirror_mode": {
    "name": "ipython",
    "version": 3
   },
   "file_extension": ".py",
   "mimetype": "text/x-python",
   "name": "python",
   "nbconvert_exporter": "python",
   "pygments_lexer": "ipython3",
   "version": "3.7.4"
  }
 },
 "nbformat": 4,
 "nbformat_minor": 2
}
