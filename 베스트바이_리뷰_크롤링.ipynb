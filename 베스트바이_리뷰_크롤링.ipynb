{
  "nbformat": 4,
  "nbformat_minor": 0,
  "metadata": {
    "colab": {
      "name": "베스트바이 리뷰 크롤링.ipynb",
      "provenance": [],
      "collapsed_sections": [],
      "authorship_tag": "ABX9TyOY8SeAYdH9qL8IBZ9oy1EK",
      "include_colab_link": true
    },
    "kernelspec": {
      "name": "python3",
      "display_name": "Python 3"
    }
  },
  "cells": [
    {
      "cell_type": "markdown",
      "metadata": {
        "id": "view-in-github",
        "colab_type": "text"
      },
      "source": [
        "<a href=\"https://colab.research.google.com/github/leehyunggeunkeun/crawling/blob/master/%EB%B2%A0%EC%8A%A4%ED%8A%B8%EB%B0%94%EC%9D%B4_%EB%A6%AC%EB%B7%B0_%ED%81%AC%EB%A1%A4%EB%A7%81.ipynb\" target=\"_parent\"><img src=\"https://colab.research.google.com/assets/colab-badge.svg\" alt=\"Open In Colab\"/></a>"
      ]
    },
    {
      "cell_type": "code",
      "metadata": {
        "id": "N7uIi1hgVqAU"
      },
      "source": [
        "import requests #파이썬에서 http요청을 보낼때 사용\r\n",
        "from bs4 import BeautifulSoup as bs #html에서 정보를 간단하게 빼오기 위해 사용\r\n",
        "import pandas as pd"
      ],
      "execution_count": 1,
      "outputs": []
    },
    {
      "cell_type": "code",
      "metadata": {
        "colab": {
          "base_uri": "https://localhost:8080/"
        },
        "id": "KrSKEl1Rak83",
        "outputId": "9d4aac2e-2ca0-428c-ca8a-8326975a3528"
      },
      "source": [
        "# 52까지\r\n",
        "\r\n",
        "number='3'\r\n",
        "url = \"https://www.bestbuy.com/site/reviews/samsung-galaxy-s10-with-128gb-memory-cell-phone-unlocked-prism-prism-black/6323528?variant=A&page={}\".format(number)\r\n",
        "response=requests.get(url, headers={\"User-Agent\": \"Mozilla/5.0\"})\r\n",
        "response"
      ],
      "execution_count": 2,
      "outputs": [
        {
          "output_type": "execute_result",
          "data": {
            "text/plain": [
              "<Response [200]>"
            ]
          },
          "metadata": {
            "tags": []
          },
          "execution_count": 2
        }
      ]
    },
    {
      "cell_type": "code",
      "metadata": {
        "id": "hxK_vDYRak_K"
      },
      "source": [
        "dom=bs(response.content, 'html.parser')"
      ],
      "execution_count": 3,
      "outputs": []
    },
    {
      "cell_type": "code",
      "metadata": {
        "colab": {
          "base_uri": "https://localhost:8080/"
        },
        "id": "oamP7ro2alBQ",
        "outputId": "1fdff0ea-5bf8-4428-9b6a-71e16fb79bc8"
      },
      "source": [
        "elements=dom.select('div.row.ugc-reviews.clearfix > div > div > ul > li')\r\n",
        "len(elements)"
      ],
      "execution_count": 4,
      "outputs": [
        {
          "output_type": "execute_result",
          "data": {
            "text/plain": [
              "20"
            ]
          },
          "metadata": {
            "tags": []
          },
          "execution_count": 4
        }
      ]
    },
    {
      "cell_type": "code",
      "metadata": {
        "colab": {
          "base_uri": "https://localhost:8080/"
        },
        "id": "vDZyDa5abFom",
        "outputId": "8d188948-154f-4161-e7c9-8bcbae8eaf82"
      },
      "source": [
        "elements[0]"
      ],
      "execution_count": 5,
      "outputs": [
        {
          "output_type": "execute_result",
          "data": {
            "text/plain": [
              "<li class=\"review-item\" tabindex=\"-1\"><div class=\"row\"><div class=\"review-item-header hidden-xs hidden-sm col-md-4 col-lg-3\"><div class=\"\"><span class=\"c-overlay-wrapper\"><span class=\"overlayTrigger\"><button aria-controls=\"e3906a70-301c-3d4b-b2e1-18ebfcd81462\" aria-expanded=\"false\" class=\"btn btn-link v-medium author-button\" data-track=\"Nickname Stats\" type=\"button\"><div class=\"ugc-author v-fw-medium body-copy-lg\"><strong>Soundbar</strong></div></button></span></span><div class=\" in-header\"><div class=\"feature-ratings\"><h4 class=\"features-heading\">Features</h4><div class=\"rating-bars\"><div class=\"quality-rating rating-group\"><div class=\"rating-description\">Quality</div><div class=\"bars-group\"><div class=\"sr-only\">5 out of 5</div><div class=\"rating-bar filled first \"> </div><div class=\"rating-bar filled \"> </div><div class=\"rating-bar filled \"> </div><div class=\"rating-bar filled \"> </div><div class=\"rating-bar filled last \"> </div></div></div><div class=\"value-rating rating-group\"><div class=\"rating-description\">Value</div><div class=\"bars-group\"><div class=\"sr-only\">5 out of 5</div><div class=\"rating-bar filled first \"> </div><div class=\"rating-bar filled \"> </div><div class=\"rating-bar filled \"> </div><div class=\"rating-bar filled \"> </div><div class=\"rating-bar filled last \"> </div></div></div><div class=\"ease-of-use-rating rating-group\"><div class=\"rating-description\">Ease of Use</div><div class=\"bars-group\"><div class=\"sr-only\">5 out of 5</div><div class=\"rating-bar filled first \"> </div><div class=\"rating-bar filled \"> </div><div class=\"rating-bar filled \"> </div><div class=\"rating-bar filled \"> </div><div class=\"rating-bar filled last \"> </div></div></div></div></div></div></div></div><div class=\"review-item-content col-xs-12 col-md-8 col-lg-9\"><div class=\"sv-heading\"><span class=\"c-overlay-wrapper\"><span class=\"overlayTrigger\"><button aria-controls=\"e3906a70-301c-3d4b-b2e1-18ebfcd81462\" aria-expanded=\"false\" class=\"btn btn-link v-medium author-button\" data-track=\"Nickname Stats\" type=\"button\"><div class=\"ugc-author v-fw-medium body-copy-lg\"><strong>Soundbar</strong></div></button></span></span></div><div class=\"verified-purchaser-sv-wrapper\"><span class=\"c-overlay-wrapper\"><span class=\"overlayTrigger\"><button aria-controls=\"verified-purchase-badge-overlay\" aria-expanded=\"false\" class=\"btn btn-link v-medium ugc-components verified-purchaser-badge\" data-track=\"Verified Purchase Badge\" type=\"button\"><img alt=\"\" aria-hidden=\"true\" src=\"https://www.bestbuy.com/~assets/bby/_com/ugc-raas/ugc-common-assets/ugc-badge-verified-check.svg\"/>Verified Purchase</button></span></span></div><div class=\"network-badge-sv-mv-wrapper\"></div><div class=\"review-heading\"><div class=\"review-rating\"><div class=\"c-ratings-reviews-v4 c-ratings-reviews-v4-size-small false undefined\"><p class=\"sr-only\">Rating 5 out of 5 stars with 1 review</p><i aria-hidden=\"true\" class=\"c-stars-wrapper c-stars-wrapper-size-small \"><span class=\"c-stars-container\"><svg aria-hidden=\"true\" fill=\"#C5CBD5\" preserveaspectratio=\"xMinYMin slice\" role=\"img\" viewbox=\"0 0 87 16\"><use href=\"/~assets/bby/_img/int/plsvgdef-frontend/svg/star-rating-empty.svg#star-rating-empty\" xlink:href=\"/~assets/bby/_img/int/plsvgdef-frontend/svg/star-rating-empty.svg#star-rating-empty\"></use></svg></span><span class=\"c-stars-container\" style=\"width:87px\"><svg aria-hidden=\"true\" fill=\"#C28400\" preserveaspectratio=\"xMinYMin slice\" role=\"img\" viewbox=\"0 0 87 16\"><use href=\"/~assets/bby/_img/int/plsvgdef-frontend/svg/star-rating-border.svg#star-rating-border\" xlink:href=\"/~assets/bby/_img/int/plsvgdef-frontend/svg/star-rating-border.svg#star-rating-border\"></use></svg></span><span class=\"c-stars-container\" style=\"width:87px\"><svg aria-hidden=\"true\" fill=\"#FFE000\" preserveaspectratio=\"xMinYMin slice\" role=\"img\" viewbox=\"0 0 87 16\"><use href=\"/~assets/bby/_img/int/plsvgdef-frontend/svg/star-rating.svg#star-rating\" xlink:href=\"/~assets/bby/_img/int/plsvgdef-frontend/svg/star-rating.svg#star-rating\"></use></svg></span></i></div></div><h4 class=\"review-title c-section-title heading-5 v-fw-medium \" id=\"review-id-e3906a70-301c-3d4b-b2e1-18ebfcd81462\">A must have</h4></div><div class=\"review-context\"><div class=\"verified-purchaser-mv-wrapper\"><span class=\"c-overlay-wrapper\"><span class=\"overlayTrigger\"><button aria-controls=\"verified-purchase-badge-overlay\" aria-expanded=\"false\" class=\"btn btn-link v-medium ugc-components verified-purchaser-badge\" data-track=\"Verified Purchase Badge\" type=\"button\"><img alt=\"\" aria-hidden=\"true\" src=\"https://www.bestbuy.com/~assets/bby/_com/ugc-raas/ugc-common-assets/ugc-badge-verified-check.svg\"/>Verified Purchase</button></span></span><span class=\"context-divider\">|</span></div><div class=\"disclaimer\">Posted <time class=\"submission-date\" title=\"Jan 28, 2021 8:59 AM\">6 days ago</time>.</div><div class=\"length-of-ownership\">Owned for <!-- -->1 year<!-- --> when reviewed.</div></div><div class=\"lv-heading\"><div class=\"visible-xs visible-sm\"><span class=\"c-overlay-wrapper\"><span class=\"overlayTrigger\"><button aria-controls=\"e3906a70-301c-3d4b-b2e1-18ebfcd81462\" aria-expanded=\"false\" class=\"btn btn-link v-medium author-button\" data-track=\"Nickname Stats\" type=\"button\"><div class=\"ugc-author v-fw-medium body-copy-lg\"><strong>Soundbar</strong></div></button></span></span><div class=\"visible-xs visible-sm in-header\"><div class=\"feature-ratings\"><h4 class=\"features-heading\">Features</h4><div class=\"rating-bars\"><div class=\"quality-rating rating-group\"><div class=\"rating-description\">Quality</div><div class=\"bars-group\"><div class=\"sr-only\">5 out of 5</div><div class=\"rating-bar filled first \"> </div><div class=\"rating-bar filled \"> </div><div class=\"rating-bar filled \"> </div><div class=\"rating-bar filled \"> </div><div class=\"rating-bar filled last \"> </div></div></div><div class=\"value-rating rating-group\"><div class=\"rating-description\">Value</div><div class=\"bars-group\"><div class=\"sr-only\">5 out of 5</div><div class=\"rating-bar filled first \"> </div><div class=\"rating-bar filled \"> </div><div class=\"rating-bar filled \"> </div><div class=\"rating-bar filled \"> </div><div class=\"rating-bar filled last \"> </div></div></div><div class=\"ease-of-use-rating rating-group\"><div class=\"rating-description\">Ease of Use</div><div class=\"bars-group\"><div class=\"sr-only\">5 out of 5</div><div class=\"rating-bar filled first \"> </div><div class=\"rating-bar filled \"> </div><div class=\"rating-bar filled \"> </div><div class=\"rating-bar filled \"> </div><div class=\"rating-bar filled last \"> </div></div></div></div></div></div></div></div><div class=\"ugc-review-body body-copy-lg\"><p class=\"pre-white-space\">I have really enjoyed this phone.  I've learned a lot of the updated features and really feel like a senior geek.</p></div><div class=\"in-review\"><div class=\"feature-ratings\"><h4 class=\"features-heading\">Features</h4><div class=\"rating-bars\"><div class=\"quality-rating rating-group\"><div class=\"rating-description\">Quality</div><div class=\"bars-group\"><div class=\"sr-only\">5 out of 5</div><div class=\"rating-bar filled first \"> </div><div class=\"rating-bar filled \"> </div><div class=\"rating-bar filled \"> </div><div class=\"rating-bar filled \"> </div><div class=\"rating-bar filled last \"> </div></div></div><div class=\"value-rating rating-group\"><div class=\"rating-description\">Value</div><div class=\"bars-group\"><div class=\"sr-only\">5 out of 5</div><div class=\"rating-bar filled first \"> </div><div class=\"rating-bar filled \"> </div><div class=\"rating-bar filled \"> </div><div class=\"rating-bar filled \"> </div><div class=\"rating-bar filled last \"> </div></div></div><div class=\"ease-of-use-rating rating-group\"><div class=\"rating-description\">Ease of Use</div><div class=\"bars-group\"><div class=\"sr-only\">5 out of 5</div><div class=\"rating-bar filled first \"> </div><div class=\"rating-bar filled \"> </div><div class=\"rating-bar filled \"> </div><div class=\"rating-bar filled \"> </div><div class=\"rating-bar filled last \"> </div></div></div></div></div></div><strong class=\"v-fw-medium ugc-recommendation\"><svg aria-hidden=\"true\" class=\"svg-size-s is-recommended-icon\" fill=\"#55555a\" role=\"img\" viewbox=\"0 0 100 100\"><use href=\"/~assets/bby/_img/int/plsvgdef-frontend/svg/confirm.svg#confirm\" xlink:href=\"/~assets/bby/_img/int/plsvgdef-frontend/svg/confirm.svg#confirm\"></use></svg> I would<!-- --> recommend this to a friend</strong><div class=\"row ugc-feedback-container\"><div class=\"col-xs-12 feedback-row\"><div class=\"feedback\"><div class=\"feedback-display\"><button aria-label=\"Rate this review as helpful. 0 people found this review to be helpful.\" class=\"btn btn-outline btn-sm helpfulness-button no-margin-l\" data-topic=\"review\" data-track=\"Helpful\" type=\"button\">Helpful (0)</button><button aria-label=\"Rate this review as unhelpful. 0 people found this review to be unhelpful.\" class=\"btn-default-link link neg-feedback\" data-track=\"Unhelpful\" type=\"button\">Unhelpful (0)</button><span class=\"c-pipe v-medium\" role=\"presentation\"></span></div><span class=\"report-display\"><button aria-label=\"Report this review as inappropriate\" class=\"btn-default-link link report no-margin-r no-margin-l\" data-topic=\"review\" data-track=\"Report\" type=\"button\">Report</button><span class=\"c-pipe v-medium\" role=\"presentation\"></span></span><div class=\"comments-actions\"><button class=\"btn-default-link link-style-button no-margin-r post-comment\" data-track=\"Post Comment\" type=\"button\">Comment</button></div></div></div></div></div></div><script type=\"application/ld+json\">{\"@context\":\"http:\\u002F\\u002Fschema.org\\u002F\",\"@type\":\"Review\",\"itemReviewed\":{\"@type\":\"Product\",\"name\":\"Samsung - Galaxy S10 with 128GB Memory Cell Phone (Unlocked) Prism Prism - Black\"},\"name\":\"A must have\",\"author\":{\"@type\":\"Person\",\"name\":\"Soundbar\"},\"reviewBody\":\"I have really enjoyed this phone.  I've learned a lot of the updated features and really feel like a senior geek.\",\"reviewRating\":{\"@type\":\"Rating\",\"ratingValue\":5,\"bestRating\":\"5\"},\"publisher\":{\"@type\":\"Organization\",\"name\":\"Best Buy\"}}</script></li>"
            ]
          },
          "metadata": {
            "tags": []
          },
          "execution_count": 5
        }
      ]
    },
    {
      "cell_type": "code",
      "metadata": {
        "id": "vGky8M3EalDT"
      },
      "source": [
        "content=elements[0].select_one(\".pre-white-space\").text.strip().replace('\\n',\"\")"
      ],
      "execution_count": 6,
      "outputs": []
    },
    {
      "cell_type": "code",
      "metadata": {
        "colab": {
          "base_uri": "https://localhost:8080/",
          "height": 639
        },
        "id": "2bS8GgN8alFm",
        "outputId": "17af2ee8-207f-4909-d13b-31595c8c26a0"
      },
      "source": [
        "datas=[]\r\n",
        "\r\n",
        "\r\n",
        "for element in elements:\r\n",
        "        \r\n",
        "        datas.append({\r\n",
        "            \r\n",
        "            'content':element.select_one(\".pre-white-space\").text.strip().replace('\\n',\"\")\r\n",
        "\r\n",
        "        \r\n",
        "        })\r\n",
        "        \r\n",
        "review_df=pd.DataFrame(datas)\r\n",
        "review_df "
      ],
      "execution_count": 7,
      "outputs": [
        {
          "output_type": "execute_result",
          "data": {
            "text/html": [
              "<div>\n",
              "<style scoped>\n",
              "    .dataframe tbody tr th:only-of-type {\n",
              "        vertical-align: middle;\n",
              "    }\n",
              "\n",
              "    .dataframe tbody tr th {\n",
              "        vertical-align: top;\n",
              "    }\n",
              "\n",
              "    .dataframe thead th {\n",
              "        text-align: right;\n",
              "    }\n",
              "</style>\n",
              "<table border=\"1\" class=\"dataframe\">\n",
              "  <thead>\n",
              "    <tr style=\"text-align: right;\">\n",
              "      <th></th>\n",
              "      <th>content</th>\n",
              "    </tr>\n",
              "  </thead>\n",
              "  <tbody>\n",
              "    <tr>\n",
              "      <th>0</th>\n",
              "      <td>I have really enjoyed this phone.  I've learne...</td>\n",
              "    </tr>\n",
              "    <tr>\n",
              "      <th>1</th>\n",
              "      <td>Love this phone, purchased it over six months ...</td>\n",
              "    </tr>\n",
              "    <tr>\n",
              "      <th>2</th>\n",
              "      <td>Beautiful design and very functional. I gave t...</td>\n",
              "    </tr>\n",
              "    <tr>\n",
              "      <th>3</th>\n",
              "      <td>Purchased as a Christmas gift. Recipient is pl...</td>\n",
              "    </tr>\n",
              "    <tr>\n",
              "      <th>4</th>\n",
              "      <td>Con: Phone restarts by itself, fast charging, ...</td>\n",
              "    </tr>\n",
              "    <tr>\n",
              "      <th>5</th>\n",
              "      <td>Phone is attractive. It is a workhorse and wil...</td>\n",
              "    </tr>\n",
              "    <tr>\n",
              "      <th>6</th>\n",
              "      <td>Purchased on clearance for my Mom to replace S...</td>\n",
              "    </tr>\n",
              "    <tr>\n",
              "      <th>7</th>\n",
              "      <td>This is a nice phone. The camera it's great. B...</td>\n",
              "    </tr>\n",
              "    <tr>\n",
              "      <th>8</th>\n",
              "      <td>Love this phone! Had it for a few months and z...</td>\n",
              "    </tr>\n",
              "    <tr>\n",
              "      <th>9</th>\n",
              "      <td>This has been the best phone I ever owned, bar...</td>\n",
              "    </tr>\n",
              "    <tr>\n",
              "      <th>10</th>\n",
              "      <td>Good phon for 380 dollar .....As open box with...</td>\n",
              "    </tr>\n",
              "    <tr>\n",
              "      <th>11</th>\n",
              "      <td>Great phone. Works as advertised and setup was...</td>\n",
              "    </tr>\n",
              "    <tr>\n",
              "      <th>12</th>\n",
              "      <td>So after many years of being an apple fan boy ...</td>\n",
              "    </tr>\n",
              "    <tr>\n",
              "      <th>13</th>\n",
              "      <td>Purchased this phone for my son because I have...</td>\n",
              "    </tr>\n",
              "    <tr>\n",
              "      <th>14</th>\n",
              "      <td>Outstanding Phone and great deal!  This was pe...</td>\n",
              "    </tr>\n",
              "    <tr>\n",
              "      <th>15</th>\n",
              "      <td>This phone is by far one of the easiest phones...</td>\n",
              "    </tr>\n",
              "    <tr>\n",
              "      <th>16</th>\n",
              "      <td>Best phone I ever owed.  Do yourself a favor a...</td>\n",
              "    </tr>\n",
              "    <tr>\n",
              "      <th>17</th>\n",
              "      <td>I upgraded from S7, wow what a difference in s...</td>\n",
              "    </tr>\n",
              "    <tr>\n",
              "      <th>18</th>\n",
              "      <td>Much needed new unlocked phone. Great phone si...</td>\n",
              "    </tr>\n",
              "    <tr>\n",
              "      <th>19</th>\n",
              "      <td>Its very good phone, great screen and fast. Ba...</td>\n",
              "    </tr>\n",
              "  </tbody>\n",
              "</table>\n",
              "</div>"
            ],
            "text/plain": [
              "                                              content\n",
              "0   I have really enjoyed this phone.  I've learne...\n",
              "1   Love this phone, purchased it over six months ...\n",
              "2   Beautiful design and very functional. I gave t...\n",
              "3   Purchased as a Christmas gift. Recipient is pl...\n",
              "4   Con: Phone restarts by itself, fast charging, ...\n",
              "5   Phone is attractive. It is a workhorse and wil...\n",
              "6   Purchased on clearance for my Mom to replace S...\n",
              "7   This is a nice phone. The camera it's great. B...\n",
              "8   Love this phone! Had it for a few months and z...\n",
              "9   This has been the best phone I ever owned, bar...\n",
              "10  Good phon for 380 dollar .....As open box with...\n",
              "11  Great phone. Works as advertised and setup was...\n",
              "12  So after many years of being an apple fan boy ...\n",
              "13  Purchased this phone for my son because I have...\n",
              "14  Outstanding Phone and great deal!  This was pe...\n",
              "15  This phone is by far one of the easiest phones...\n",
              "16  Best phone I ever owed.  Do yourself a favor a...\n",
              "17  I upgraded from S7, wow what a difference in s...\n",
              "18  Much needed new unlocked phone. Great phone si...\n",
              "19  Its very good phone, great screen and fast. Ba..."
            ]
          },
          "metadata": {
            "tags": []
          },
          "execution_count": 7
        }
      ]
    },
    {
      "cell_type": "code",
      "metadata": {
        "id": "t3nLdM00alHv"
      },
      "source": [
        "def review(number):\r\n",
        "\r\n",
        "\r\n",
        "    url = \"https://www.bestbuy.com/site/reviews/samsung-galaxy-s10-with-128gb-memory-cell-phone-unlocked-prism-prism-black/6323528?variant=A&page={}\".format(number)\r\n",
        "    response=requests.get(url, headers={\"User-Agent\": \"Mozilla/5.0\"})\r\n",
        "\r\n",
        "    \r\n",
        "    dom=bs(response.content, 'html.parser')\r\n",
        "    \r\n",
        "    elements=dom.select('div.row.ugc-reviews.clearfix > div > div > ul > li')\r\n",
        "     \r\n",
        "    \r\n",
        "    datas=[]\r\n",
        "\r\n",
        "\r\n",
        "\r\n",
        "    for element in elements:\r\n",
        "            \r\n",
        "            datas.append({\r\n",
        "            \r\n",
        "            'content':element.select_one(\".pre-white-space\").text.strip().replace('\\n',\"\")\r\n",
        "\r\n",
        "        \r\n",
        "        })\r\n",
        "            \r\n",
        "    review_df=pd.DataFrame(datas)\r\n",
        "    return review_df "
      ],
      "execution_count": 8,
      "outputs": []
    },
    {
      "cell_type": "code",
      "metadata": {
        "colab": {
          "base_uri": "https://localhost:8080/",
          "height": 639
        },
        "id": "ftPOWvWQalKM",
        "outputId": "83b1dccb-b4d3-4acf-f266-46fdde18c5d9"
      },
      "source": [
        "number='2'\r\n",
        "review(number)"
      ],
      "execution_count": 9,
      "outputs": [
        {
          "output_type": "execute_result",
          "data": {
            "text/html": [
              "<div>\n",
              "<style scoped>\n",
              "    .dataframe tbody tr th:only-of-type {\n",
              "        vertical-align: middle;\n",
              "    }\n",
              "\n",
              "    .dataframe tbody tr th {\n",
              "        vertical-align: top;\n",
              "    }\n",
              "\n",
              "    .dataframe thead th {\n",
              "        text-align: right;\n",
              "    }\n",
              "</style>\n",
              "<table border=\"1\" class=\"dataframe\">\n",
              "  <thead>\n",
              "    <tr style=\"text-align: right;\">\n",
              "      <th></th>\n",
              "      <th>content</th>\n",
              "    </tr>\n",
              "  </thead>\n",
              "  <tbody>\n",
              "    <tr>\n",
              "      <th>0</th>\n",
              "      <td>Usually, I don't upgrade with each new release...</td>\n",
              "    </tr>\n",
              "    <tr>\n",
              "      <th>1</th>\n",
              "      <td>Coming from an S7, this phone is AMAZING! Trie...</td>\n",
              "    </tr>\n",
              "    <tr>\n",
              "      <th>2</th>\n",
              "      <td>I bought this phone as a gift for my wife. It ...</td>\n",
              "    </tr>\n",
              "    <tr>\n",
              "      <th>3</th>\n",
              "      <td>If your device cannot be repaired or repair ex...</td>\n",
              "    </tr>\n",
              "    <tr>\n",
              "      <th>4</th>\n",
              "      <td>You won't believe me if I told you that I neve...</td>\n",
              "    </tr>\n",
              "    <tr>\n",
              "      <th>5</th>\n",
              "      <td>Great Samsung device! May not be the flagship ...</td>\n",
              "    </tr>\n",
              "    <tr>\n",
              "      <th>6</th>\n",
              "      <td>That is by far the best phone ever. It is mile...</td>\n",
              "    </tr>\n",
              "    <tr>\n",
              "      <th>7</th>\n",
              "      <td>If you have been iPhone user then it’s gonna t...</td>\n",
              "    </tr>\n",
              "    <tr>\n",
              "      <th>8</th>\n",
              "      <td>Very pleased! I purchased this brand new with ...</td>\n",
              "    </tr>\n",
              "    <tr>\n",
              "      <th>9</th>\n",
              "      <td>Bought this phone for the mother for Christmas...</td>\n",
              "    </tr>\n",
              "    <tr>\n",
              "      <th>10</th>\n",
              "      <td>I have bought it for my son and he have not ha...</td>\n",
              "    </tr>\n",
              "    <tr>\n",
              "      <th>11</th>\n",
              "      <td>Hey I have Excellent Technology in my hands Sa...</td>\n",
              "    </tr>\n",
              "    <tr>\n",
              "      <th>12</th>\n",
              "      <td>phones work really well good camera, take grea...</td>\n",
              "    </tr>\n",
              "    <tr>\n",
              "      <th>13</th>\n",
              "      <td>I bought my galaxy S10, 18 months back since t...</td>\n",
              "    </tr>\n",
              "    <tr>\n",
              "      <th>14</th>\n",
              "      <td>Great product for the price. Also considered p...</td>\n",
              "    </tr>\n",
              "    <tr>\n",
              "      <th>15</th>\n",
              "      <td>I love this phone. I purchased long time ago a...</td>\n",
              "    </tr>\n",
              "    <tr>\n",
              "      <th>16</th>\n",
              "      <td>Thank you, it was a great choice and has serve...</td>\n",
              "    </tr>\n",
              "    <tr>\n",
              "      <th>17</th>\n",
              "      <td>I really love this smartphone is fast, safe, I...</td>\n",
              "    </tr>\n",
              "    <tr>\n",
              "      <th>18</th>\n",
              "      <td>I've never been let down by the galaxy phones....</td>\n",
              "    </tr>\n",
              "    <tr>\n",
              "      <th>19</th>\n",
              "      <td>I've been a fan of Samsung for years and this ...</td>\n",
              "    </tr>\n",
              "  </tbody>\n",
              "</table>\n",
              "</div>"
            ],
            "text/plain": [
              "                                              content\n",
              "0   Usually, I don't upgrade with each new release...\n",
              "1   Coming from an S7, this phone is AMAZING! Trie...\n",
              "2   I bought this phone as a gift for my wife. It ...\n",
              "3   If your device cannot be repaired or repair ex...\n",
              "4   You won't believe me if I told you that I neve...\n",
              "5   Great Samsung device! May not be the flagship ...\n",
              "6   That is by far the best phone ever. It is mile...\n",
              "7   If you have been iPhone user then it’s gonna t...\n",
              "8   Very pleased! I purchased this brand new with ...\n",
              "9   Bought this phone for the mother for Christmas...\n",
              "10  I have bought it for my son and he have not ha...\n",
              "11  Hey I have Excellent Technology in my hands Sa...\n",
              "12  phones work really well good camera, take grea...\n",
              "13  I bought my galaxy S10, 18 months back since t...\n",
              "14  Great product for the price. Also considered p...\n",
              "15  I love this phone. I purchased long time ago a...\n",
              "16  Thank you, it was a great choice and has serve...\n",
              "17  I really love this smartphone is fast, safe, I...\n",
              "18  I've never been let down by the galaxy phones....\n",
              "19  I've been a fan of Samsung for years and this ..."
            ]
          },
          "metadata": {
            "tags": []
          },
          "execution_count": 9
        }
      ]
    },
    {
      "cell_type": "code",
      "metadata": {
        "colab": {
          "base_uri": "https://localhost:8080/"
        },
        "id": "yUp5u7T1alMK",
        "outputId": "aa553b17-428f-4bc9-e4ee-46226603e09f"
      },
      "source": [
        "for number in range(1,53):\r\n",
        "\r\n",
        "        \r\n",
        "        number=str(number)\r\n",
        "        df=pd.DataFrame(review(number))\r\n",
        "        df.to_csv('{}.csv'.format(number))\r\n",
        "        print(number)"
      ],
      "execution_count": null,
      "outputs": [
        {
          "output_type": "stream",
          "text": [
            "1\n",
            "2\n",
            "3\n",
            "4\n",
            "5\n",
            "6\n",
            "7\n",
            "8\n",
            "9\n",
            "10\n",
            "11\n",
            "12\n",
            "13\n",
            "14\n",
            "15\n",
            "16\n",
            "17\n",
            "18\n",
            "19\n",
            "20\n",
            "21\n",
            "22\n",
            "23\n",
            "24\n",
            "25\n",
            "26\n",
            "27\n",
            "28\n",
            "29\n",
            "30\n",
            "31\n",
            "32\n",
            "33\n",
            "34\n",
            "35\n",
            "36\n",
            "37\n",
            "38\n",
            "39\n",
            "40\n",
            "41\n",
            "42\n",
            "43\n",
            "44\n",
            "45\n",
            "46\n",
            "47\n",
            "48\n",
            "49\n",
            "50\n",
            "51\n",
            "52\n"
          ],
          "name": "stdout"
        }
      ]
    }
  ]
}